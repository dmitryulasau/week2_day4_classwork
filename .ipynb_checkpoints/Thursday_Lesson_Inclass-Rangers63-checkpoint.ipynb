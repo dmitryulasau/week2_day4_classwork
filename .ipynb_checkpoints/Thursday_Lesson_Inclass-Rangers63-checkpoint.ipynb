{
 "cells": [
  {
   "cell_type": "markdown",
   "metadata": {},
   "source": [
    "# Object-Oriented-Programming (OOP)"
   ]
  },
  {
   "cell_type": "markdown",
   "metadata": {},
   "source": [
    "## Tasks Today:\n",
    "\n",
    "   \n",
    "\n",
    "1) <b>Creating a Class (Initializing/Declaring)</b> <br>\n",
    "2) <b>Using a Class (Instantiating)</b> <br>\n",
    " &nbsp;&nbsp;&nbsp;&nbsp; a) Creating One Instance <br>\n",
    " &nbsp;&nbsp;&nbsp;&nbsp; b) Creating Multiple Instances <br>\n",
    " &nbsp;&nbsp;&nbsp;&nbsp; c) In-Class Exercise #1 - Create a Class 'Car' and instantiate three different makes of cars <br>\n",
    "3) <b>The \\__init\\__() Method</b> <br>\n",
    " &nbsp;&nbsp;&nbsp;&nbsp; a) The 'self' Attribute <br>\n",
    "4) <b>Class Attributes</b> <br>\n",
    " &nbsp;&nbsp;&nbsp;&nbsp; a) Initializing Attributes <br>\n",
    " &nbsp;&nbsp;&nbsp;&nbsp; b) Setting an Attribute Outside of the \\__init\\__() Method <br>\n",
    " &nbsp;&nbsp;&nbsp;&nbsp; c) Setting Defaults for Attributes <br>\n",
    " &nbsp;&nbsp;&nbsp;&nbsp; d) Accessing Class Attributes <br>\n",
    " &nbsp;&nbsp;&nbsp;&nbsp; e) Changing Class Attributes <br>\n",
    " &nbsp;&nbsp;&nbsp;&nbsp; f) In-Class Exercise #2 - Add a color and wheels attribute to your 'Car' class <br>\n",
    "5) <b>Class Methods</b> <br>\n",
    " &nbsp;&nbsp;&nbsp;&nbsp; a) Creating <br>\n",
    " &nbsp;&nbsp;&nbsp;&nbsp; b) Calling <br>\n",
    " &nbsp;&nbsp;&nbsp;&nbsp; c) Modifying an Attribute's Value Through a Method <br>\n",
    " &nbsp;&nbsp;&nbsp;&nbsp; d) Incrementing an Attribute's Value Through a Method <br>\n",
    " &nbsp;&nbsp;&nbsp;&nbsp; e) In-Class Exercise #3 - Add a method that prints the cars color and wheel number, then call them <br>\n",
    "6) <b>Inheritance</b> <br>\n",
    " &nbsp;&nbsp;&nbsp;&nbsp; a) Syntax for Inheriting from a Parent Class <br>\n",
    " &nbsp;&nbsp;&nbsp;&nbsp; b) The \\__init\\__() Method for a Child Class (super()) <br>\n",
    " &nbsp;&nbsp;&nbsp;&nbsp; c) Defining Attributes and Methods for the Child Class <br>\n",
    " &nbsp;&nbsp;&nbsp;&nbsp; d) Method Overriding <br>\n",
    " &nbsp;&nbsp;&nbsp;&nbsp; e) In-Class Exercise #4 - Create a class 'Ford' that inherits from 'Car' class and initialize it as a Blue Ford Explorer with 4 wheels using the super() method <br>\n",
    "7) <b>Classes as Attributes</b> <br>\n",
    "8) <b>Exercises</b> <br>\n",
    " &nbsp;&nbsp;&nbsp;&nbsp; a) Exercise #1 - Turn the shopping cart program from yesterday into an object-oriented program <br>"
   ]
  },
  {
   "cell_type": "code",
   "execution_count": 45,
   "metadata": {},
   "outputs": [
    {
     "name": "stdout",
     "output_type": "stream",
     "text": [
      "Your Cart Contains: \n",
      "Your cart is empty\n",
      "Thanks for Shopping!\n"
     ]
    }
   ],
   "source": [
    "from IPython.display import clear_output\n",
    "\n",
    "cart = []\n",
    "\n",
    "def show_cart():\n",
    "    clear_output()\n",
    "    print(\"Your Cart Contains: \")\n",
    "    for item in cart:\n",
    "        print(item)\n",
    "    if not cart:\n",
    "        print(\"Your cart is empty\")\n",
    "    \n",
    "\n",
    "def add_item(i):\n",
    "    clear_output()\n",
    "    cart.append(i)\n",
    "    print(f\"{i} was added to your cart\")\n",
    "\n",
    "def remove_cart(i):\n",
    "    clear_output()\n",
    "    cart.remove(i)\n",
    "    print(f\"{i} was removed to your cart\")\n",
    "\n",
    "def clear_cart():\n",
    "    clear_output()\n",
    "    cart.clear()\n",
    "    print(\"Your cart is empty\")\n",
    "\n",
    "\n",
    "\n",
    "\n",
    "def main(): #run shopping cart program\n",
    "    while True:\n",
    "        response = input(\"\"\"What would you like to do?\n",
    "You can:\n",
    "add\n",
    "remove\n",
    "show\n",
    "clear\n",
    "quit\n",
    "\"\"\")\n",
    "        if response.lower().strip() == 'quit':\n",
    "            show_cart()\n",
    "            print(\"Thanks for Shopping!\")\n",
    "            break\n",
    "        elif response.lower().strip() == 'add':\n",
    "            item = input(\"What would you like to add? \")\n",
    "            add_item(item)\n",
    "            # add item to the cart\n",
    "        elif response.lower().strip() == 'remove':\n",
    "            item = input(\"What would you like to remove? \")\n",
    "            remove_cart(i)\n",
    "            # remove item from cart\n",
    "        elif response.lower().strip() == 'show':\n",
    "            show_cart()\n",
    "        elif response.lower().strip() == 'clear':\n",
    "            clear_cart()\n",
    "        else:\n",
    "            print(\"Invalid Option You Hockey Puck!\")\n",
    "            \n",
    "if __name__ == \"__main__\":\n",
    "    #Driver code\n",
    "    main()\n",
    "    "
   ]
  },
  {
   "cell_type": "markdown",
   "metadata": {},
   "source": [
    "## Creating a Class (Initializing/Declaring)\n",
    "<p>When creating a class, function, or even a variable you are initializing that object. Initializing and Declaring occur at the same time in Python, whereas in lower level languages you have to declare an object before initializing it. This is the first step in the process of using a class.</p>"
   ]
  },
  {
   "cell_type": "code",
   "execution_count": 46,
   "metadata": {},
   "outputs": [],
   "source": [
    "class Car(): #Class names use PascalCase\n",
    "    wheels = 4     # Class Attribute\n",
    "    color = 'blue' # Class Attribute\n",
    "    "
   ]
  },
  {
   "cell_type": "markdown",
   "metadata": {},
   "source": [
    "## Using a Class (Instantiating)\n",
    "<p>The process of creating a class is called <i>Instantiating</i>. Each time you create a variable of that type of class, it is referred to as an <i>Instance</i> of that class. This is the second step in the process of using a class.</p>"
   ]
  },
  {
   "cell_type": "markdown",
   "metadata": {},
   "source": [
    "##### Creating One Instance"
   ]
  },
  {
   "cell_type": "code",
   "execution_count": 47,
   "metadata": {},
   "outputs": [
    {
     "name": "stdout",
     "output_type": "stream",
     "text": [
      "<__main__.Car object at 0x000001C6445C4070>\n"
     ]
    }
   ],
   "source": [
    "ford = Car()\n",
    "print(ford)"
   ]
  },
  {
   "cell_type": "code",
   "execution_count": 48,
   "metadata": {},
   "outputs": [
    {
     "data": {
      "text/plain": [
       "4"
      ]
     },
     "execution_count": 48,
     "metadata": {},
     "output_type": "execute_result"
    }
   ],
   "source": [
    "ford.wheels"
   ]
  },
  {
   "cell_type": "code",
   "execution_count": 49,
   "metadata": {},
   "outputs": [
    {
     "data": {
      "text/plain": [
       "'blue'"
      ]
     },
     "execution_count": 49,
     "metadata": {},
     "output_type": "execute_result"
    }
   ],
   "source": [
    "ford.color"
   ]
  },
  {
   "cell_type": "markdown",
   "metadata": {},
   "source": [
    "##### Creating Multiple Instances"
   ]
  },
  {
   "cell_type": "code",
   "execution_count": 50,
   "metadata": {},
   "outputs": [
    {
     "name": "stdout",
     "output_type": "stream",
     "text": [
      "4\n",
      "4\n",
      "blue\n",
      "blue\n"
     ]
    }
   ],
   "source": [
    "chevy = Car()\n",
    "honda = Car()\n",
    "porche = Car()\n",
    "print(honda.wheels)\n",
    "print(chevy.wheels)\n",
    "print(porche.color)\n",
    "print(honda.color)"
   ]
  },
  {
   "cell_type": "markdown",
   "metadata": {},
   "source": [
    "##### In-Class Exercise #1 - Create a Class 'Car' and Instantiate three different makes of cars"
   ]
  },
  {
   "cell_type": "code",
   "execution_count": 51,
   "metadata": {},
   "outputs": [
    {
     "name": "stdout",
     "output_type": "stream",
     "text": [
      "awd\n",
      "5\n",
      "auto\n"
     ]
    }
   ],
   "source": [
    "class Car():\n",
    "    interior = \"leather\"\n",
    "    doors = 5\n",
    "    powertrain = \"awd\"\n",
    "    transmission = \"auto\"\n",
    "\n",
    "mercedes = Car()\n",
    "bmw = Car()\n",
    "mazda = Car()\n",
    "\n",
    "print(mazda.powertrain)\n",
    "print(mercedes.doors)\n",
    "print(bmw.transmission)\n",
    "    \n",
    "    "
   ]
  },
  {
   "cell_type": "markdown",
   "metadata": {},
   "source": [
    "## The \\__init\\__() Method <br>\n",
    "<p>This method is used in almost every created class, and called only once upon the creation of the class instance. This method will initialize all variables needed for the object.</p>"
   ]
  },
  {
   "cell_type": "code",
   "execution_count": 52,
   "metadata": {},
   "outputs": [],
   "source": [
    "class Car():\n",
    "    engine = \"4.7L\" # Class Attribute\n",
    "    \n",
    "    # Constructor\n",
    "    def __init__(self, color, number_of_wheels = 4):\n",
    "        self.wheels = number_of_wheels # Instance Attribute\n",
    "        self.color = color # Instance Attribute\n",
    "\n"
   ]
  },
  {
   "cell_type": "code",
   "execution_count": 53,
   "metadata": {},
   "outputs": [
    {
     "name": "stdout",
     "output_type": "stream",
     "text": [
      "4\n",
      "3\n",
      "4.7L\n",
      "4.7L\n",
      "red\n",
      "green\n",
      "4\n",
      "red\n",
      "4.7L\n",
      "===========\n",
      "3\n",
      "green\n",
      "4.7L\n",
      "===========\n",
      "4.7L\n"
     ]
    },
    {
     "ename": "AttributeError",
     "evalue": "type object 'Car' has no attribute 'wheels'",
     "output_type": "error",
     "traceback": [
      "\u001b[1;31m---------------------------------------------------------------------------\u001b[0m",
      "\u001b[1;31mAttributeError\u001b[0m                            Traceback (most recent call last)",
      "Input \u001b[1;32mIn [53]\u001b[0m, in \u001b[0;36m<cell line: 22>\u001b[1;34m()\u001b[0m\n\u001b[0;32m     19\u001b[0m     \u001b[38;5;28mprint\u001b[39m(\u001b[38;5;124m\"\u001b[39m\u001b[38;5;124m===========\u001b[39m\u001b[38;5;124m\"\u001b[39m)\n\u001b[0;32m     21\u001b[0m \u001b[38;5;28mprint\u001b[39m(Car\u001b[38;5;241m.\u001b[39mengine)\n\u001b[1;32m---> 22\u001b[0m \u001b[38;5;28mprint\u001b[39m(\u001b[43mCar\u001b[49m\u001b[38;5;241;43m.\u001b[39;49m\u001b[43mwheels\u001b[49m)\n",
      "\u001b[1;31mAttributeError\u001b[0m: type object 'Car' has no attribute 'wheels'"
     ]
    }
   ],
   "source": [
    "ford = Car(\"red\")\n",
    "trike = Car(\"green\", 3)\n",
    "\n",
    "print(ford.wheels)\n",
    "print(trike.wheels)\n",
    "\n",
    "print(ford.engine)\n",
    "print(trike.engine)\n",
    "\n",
    "print(ford.color)\n",
    "print(trike.color)\n",
    "\n",
    "my_cars = [ford, trike]\n",
    "\n",
    "for car in my_cars:\n",
    "    print(car.wheels)\n",
    "    print(car.color)\n",
    "    print(car.engine)\n",
    "    print(\"===========\")\n",
    "\n",
    "print(Car.engine)\n",
    "print(Car.wheels) # Car class itself only knows about class attributes\n"
   ]
  },
  {
   "cell_type": "markdown",
   "metadata": {},
   "source": [
    "##### The 'self' Attribute <br>\n",
    "<p>This attribute is required to keep track of specific instance's attributes. Without the self attribute, the program would not know how to reference or keep track of an instance's attributes.</p>"
   ]
  },
  {
   "cell_type": "code",
   "execution_count": null,
   "metadata": {},
   "outputs": [],
   "source": [
    "# see above"
   ]
  },
  {
   "cell_type": "markdown",
   "metadata": {},
   "source": [
    "## Class Attributes <br>\n",
    "<p>While variables are inside of a class, they are referred to as attributes and not variables. When someone says 'attribute' you know they're speaking about a class. Attributes can be initialized through the init method, or outside of it.</p>"
   ]
  },
  {
   "cell_type": "markdown",
   "metadata": {},
   "source": [
    "##### Initializing Attributes"
   ]
  },
  {
   "cell_type": "code",
   "execution_count": null,
   "metadata": {},
   "outputs": [],
   "source": [
    "# see above"
   ]
  },
  {
   "cell_type": "markdown",
   "metadata": {},
   "source": [
    "##### Accessing Class Attributes"
   ]
  },
  {
   "cell_type": "code",
   "execution_count": null,
   "metadata": {
    "scrolled": true
   },
   "outputs": [],
   "source": [
    "# See Above"
   ]
  },
  {
   "cell_type": "markdown",
   "metadata": {},
   "source": [
    "##### Setting Defaults for Attributes"
   ]
  },
  {
   "cell_type": "code",
   "execution_count": null,
   "metadata": {},
   "outputs": [],
   "source": [
    "# See Above"
   ]
  },
  {
   "cell_type": "markdown",
   "metadata": {},
   "source": [
    "##### Changing Class Attributes <br>\n",
    "<p>Keep in mind there are global class attributes and then there are attributes only available to each class instance which won't effect other classes.</p>"
   ]
  },
  {
   "cell_type": "code",
   "execution_count": 54,
   "metadata": {},
   "outputs": [
    {
     "name": "stdout",
     "output_type": "stream",
     "text": [
      "2.0L\n",
      "4.7L\n",
      "4.7L\n"
     ]
    }
   ],
   "source": [
    "ford = Car(\"red\")\n",
    "trike = Car(\"green\", 3)\n",
    "\n",
    "trike.engine = \"2.0L\"\n",
    "print(trike.engine)\n",
    "print(ford.engine)\n",
    "\n",
    "new_car = Car('yellow')\n",
    "print(new_car.engine)"
   ]
  },
  {
   "cell_type": "code",
   "execution_count": 55,
   "metadata": {},
   "outputs": [
    {
     "name": "stdout",
     "output_type": "stream",
     "text": [
      "2.0L\n",
      "2.0L\n",
      "2.0L\n"
     ]
    }
   ],
   "source": [
    "ford = Car(\"red\")\n",
    "trike = Car(\"green\", 3)\n",
    "\n",
    "Car.engine = \"2.0L\"\n",
    "print(trike.engine)\n",
    "print(ford.engine)\n",
    "\n",
    "new_car = Car('yellow')\n",
    "print(new_car.engine)"
   ]
  },
  {
   "cell_type": "code",
   "execution_count": 59,
   "metadata": {
    "scrolled": true
   },
   "outputs": [
    {
     "name": "stdout",
     "output_type": "stream",
     "text": [
      "red\n",
      "green\n",
      "blue\n",
      "green\n"
     ]
    }
   ],
   "source": [
    "# Above we changed Class Attributre\n",
    "\n",
    "# We can also change instance attributes\n",
    "\n",
    "print(ford.color)\n",
    "print(trike.color)\n",
    "\n",
    "ford.color = \"blue\"\n",
    "print(ford.color)\n",
    "print(trike.color)"
   ]
  },
  {
   "cell_type": "code",
   "execution_count": 61,
   "metadata": {},
   "outputs": [
    {
     "name": "stdout",
     "output_type": "stream",
     "text": [
      "True\n"
     ]
    }
   ],
   "source": [
    "# add instance variable\n",
    "ford.is_truck = True\n",
    "print(ford.is_truck)"
   ]
  },
  {
   "cell_type": "code",
   "execution_count": 63,
   "metadata": {},
   "outputs": [],
   "source": [
    "# add class attribute\n",
    "Car.has_sun_roof = False"
   ]
  },
  {
   "cell_type": "code",
   "execution_count": 64,
   "metadata": {},
   "outputs": [
    {
     "data": {
      "text/plain": [
       "False"
      ]
     },
     "execution_count": 64,
     "metadata": {},
     "output_type": "execute_result"
    }
   ],
   "source": [
    "ford.has_sun_roof"
   ]
  },
  {
   "cell_type": "markdown",
   "metadata": {},
   "source": [
    "##### In-Class Exercise #2 - Add a doors and seats attribute to your 'Car' class then print out two different instances with different doors and seats"
   ]
  },
  {
   "cell_type": "code",
   "execution_count": 68,
   "metadata": {},
   "outputs": [
    {
     "name": "stdout",
     "output_type": "stream",
     "text": [
      "BMW dorrs - 200 and seats - 7 \n",
      "Mazda doors - 1 and seats - 9 \n"
     ]
    }
   ],
   "source": [
    "class Car():\n",
    "    doors = 4\n",
    "    seats = 4\n",
    "    \n",
    "bmw = Car()\n",
    "mazda = Car()\n",
    "\n",
    "bmw.doors = 200\n",
    "bmw.seats = 7\n",
    "print(f\"BMW dorrs - {bmw.doors} and seats - {bmw.seats} \")\n",
    "\n",
    "mazda.doors = 1\n",
    "mazda.seats = 9\n",
    "print(f\"Mazda doors - {mazda.doors} and seats - {mazda.seats} \")\n",
    "\n"
   ]
  },
  {
   "cell_type": "markdown",
   "metadata": {},
   "source": [
    "## Instance Methods <br>\n",
    "<p>While inside of a class, functions are referred to as 'methods'. If you hear someone mention methods, they're speaking about classes. Methods are essentially functions, but only callable on the instances of a class.</p>"
   ]
  },
  {
   "cell_type": "markdown",
   "metadata": {},
   "source": [
    "##### Creating"
   ]
  },
  {
   "cell_type": "code",
   "execution_count": 78,
   "metadata": {},
   "outputs": [],
   "source": [
    "class Car():\n",
    "    def __init__(self, wheels, color, seats):\n",
    "        self.wheels = wheels\n",
    "        self.color = color\n",
    "        self.seats = seats\n",
    "        self.has_sunroof = False\n",
    "        \n",
    "    def drive(self):\n",
    "        print(\"VROOOOOOM!!!!!\")\n",
    "        \n",
    "    def describe(self):\n",
    "        print(f\"The car is {self.color} with {self.seats} seats and {self.wheels} wheels\")\n",
    "        \n",
    "    def set_color(self, new_color):\n",
    "        self.color = new_color.lower()\n",
    "        \n",
    "    def get_color(self):\n",
    "        return self.color\n",
    "    \n",
    "    def add_seats(self):\n",
    "        self.seats += 1"
   ]
  },
  {
   "cell_type": "code",
   "execution_count": 79,
   "metadata": {},
   "outputs": [
    {
     "name": "stdout",
     "output_type": "stream",
     "text": [
      "{'wheels': 4, 'color': 'red', 'seats': 8, 'has_sunroof': False}\n"
     ]
    }
   ],
   "source": [
    "chevy = Car(4, \"red\", 8)\n",
    "# print(dir(chevy))\n",
    "print(chevy.__dict__)"
   ]
  },
  {
   "cell_type": "code",
   "execution_count": 82,
   "metadata": {},
   "outputs": [
    {
     "name": "stdout",
     "output_type": "stream",
     "text": [
      "VROOOOOOM!!!!!\n",
      "The car is green with 9 seats and 4 wheels\n",
      "The car is green with 9 seats and 4 wheels\n",
      "The car is green with 10 seats and 4 wheels\n"
     ]
    }
   ],
   "source": [
    "chevy.drive()\n",
    "chevy.describe()\n",
    "chevy.set_color(\"green\")\n",
    "chevy.describe()\n",
    "\n",
    "chevy.add_seats()\n",
    "chevy.describe()"
   ]
  },
  {
   "cell_type": "code",
   "execution_count": 83,
   "metadata": {
    "scrolled": false
   },
   "outputs": [
    {
     "ename": "TypeError",
     "evalue": "drive() missing 1 required positional argument: 'self'",
     "output_type": "error",
     "traceback": [
      "\u001b[1;31m---------------------------------------------------------------------------\u001b[0m",
      "\u001b[1;31mTypeError\u001b[0m                                 Traceback (most recent call last)",
      "Input \u001b[1;32mIn [83]\u001b[0m, in \u001b[0;36m<cell line: 1>\u001b[1;34m()\u001b[0m\n\u001b[1;32m----> 1\u001b[0m \u001b[43mCar\u001b[49m\u001b[38;5;241;43m.\u001b[39;49m\u001b[43mdrive\u001b[49m\u001b[43m(\u001b[49m\u001b[43m)\u001b[49m\n",
      "\u001b[1;31mTypeError\u001b[0m: drive() missing 1 required positional argument: 'self'"
     ]
    }
   ],
   "source": [
    "Car.drive() # DON'T WORK LIKE THIS"
   ]
  },
  {
   "cell_type": "code",
   "execution_count": 85,
   "metadata": {
    "scrolled": true
   },
   "outputs": [
    {
     "name": "stdout",
     "output_type": "stream",
     "text": [
      "VROOOOOOM!!!!!\n"
     ]
    }
   ],
   "source": [
    "test_car = Car(4, \"purple\", 2)\n",
    "Car.drive(test_car)"
   ]
  },
  {
   "cell_type": "markdown",
   "metadata": {},
   "source": [
    "##### Calling"
   ]
  },
  {
   "cell_type": "code",
   "execution_count": null,
   "metadata": {},
   "outputs": [],
   "source": [
    "# See Above"
   ]
  },
  {
   "cell_type": "markdown",
   "metadata": {},
   "source": [
    "##### Modifying an Attribute's Value Through a Method"
   ]
  },
  {
   "cell_type": "code",
   "execution_count": null,
   "metadata": {},
   "outputs": [],
   "source": []
  },
  {
   "cell_type": "markdown",
   "metadata": {},
   "source": [
    "##### Incrementing an Attribute's Value Through a Method"
   ]
  },
  {
   "cell_type": "code",
   "execution_count": null,
   "metadata": {},
   "outputs": [],
   "source": []
  },
  {
   "cell_type": "markdown",
   "metadata": {},
   "source": [
    "##### In-Class Exercise #3 - Add a method that takes in three parameters of year, doors and seats and prints out a formatted print statement with make, model, year, seats, and doors"
   ]
  },
  {
   "cell_type": "code",
   "execution_count": 113,
   "metadata": {},
   "outputs": [
    {
     "name": "stdout",
     "output_type": "stream",
     "text": [
      "On a race Chevrolet Corvette C1 of 2004 year with 3 doors and 2 seats.\n",
      "On a race FORD POS of 1991 year with 5 doors and 10 seats.\n",
      "Chevrolet Corvette C1 is better than FORD POS\n",
      "Chevrolet Corvette C1 is better than FORD POS\n"
     ]
    }
   ],
   "source": [
    "# Create a Car Class\n",
    "# the Class with have make and model taken in with the init\n",
    "# then add a method to add more information about the car and have that create/set year, doors, seats \n",
    "# for the instance\n",
    "\n",
    "# class Car():\n",
    "#     engine = \"4.7L\"\n",
    "    \n",
    "#     def __init__(self, make, model):\n",
    "#         self.make = make\n",
    "#         self.model = model\n",
    "        \n",
    "#     def set_year(self, year):\n",
    "#         self.year = year\n",
    "    \n",
    "#     def set_doors(self, doors):\n",
    "#         self.doors = doors\n",
    "    \n",
    "#     def set_seats(self, seats):\n",
    "#         self.seats = seats\n",
    "        \n",
    "#     def describe(self):\n",
    "#         print(f\"On a race {race_car.make} {race_car.model} of {race_car.year} year with {race_car.doors} doors and {race_car.seats} seats.\")\n",
    "        \n",
    "# race_car = Car(\"Chevrolet\", \"Corvette C1\")\n",
    "# race_car.set_year(2004)\n",
    "# race_car.set_doors(3)\n",
    "# race_car.set_seats(2)\n",
    "\n",
    "# race_car.describe()\n",
    "\n",
    "#### KEVIN ####\n",
    "\n",
    "class Car():\n",
    "    engine = \"4.7L\"\n",
    "    \n",
    "    def __init__(self, make, model):\n",
    "        self.make = make\n",
    "        self.model = model\n",
    "        self.year = None\n",
    "        self.doors = None\n",
    "        self.seats = None\n",
    "        \n",
    "    def add_details(self, year, doors, seats):\n",
    "        self.year = year\n",
    "        self.doors = doors\n",
    "        self.seats = seats\n",
    "                \n",
    "    def describe(self):\n",
    "        print(f\"On a race {self.make} {self.model} of {self.year} year with {self.doors} doors and {self.seats} seats.\")\n",
    "        \n",
    "    @classmethod\n",
    "    def which_is_better(cls, car1, car2):\n",
    "        if car1.year > car2.year:\n",
    "            print(f\"{car1.make} {car1.model} is better than {car2.make} {car2.model}\")\n",
    "        else:\n",
    "            print(f\"{car1.make} {car1.model} is worse than {car2.make} {car2.model}\")\n",
    "        \n",
    "race_car = Car(\"Chevrolet\", \"Corvette C1\")\n",
    "race_car.add_details(2004 , 3, 2)\n",
    "\n",
    "race_car.describe()\n",
    "\n",
    "dylan_car = Car(\"FORD\", \"POS\")\n",
    "dylan_car.add_details(1991 , 5, 10)\n",
    "\n",
    "dylan_car.describe()\n",
    "\n",
    "Car.which_is_better(race_car, dylan_car)\n",
    "\n",
    "race_car.which_is_better(race_car, dylan_car)"
   ]
  },
  {
   "cell_type": "markdown",
   "metadata": {},
   "source": [
    "## Inheritance <br>\n",
    "<p>You can create a child-parent relationship between two classes by using inheritance. What this allows you to do is have overriding methods, but also inherit traits from the parent class. Think of it as an actual parent and child, the child will inherit the parent's genes, as will the classes in OOP</p>"
   ]
  },
  {
   "cell_type": "markdown",
   "metadata": {},
   "source": [
    "##### Syntax for Inheriting from a Parent Class"
   ]
  },
  {
   "cell_type": "code",
   "execution_count": null,
   "metadata": {},
   "outputs": [],
   "source": []
  },
  {
   "cell_type": "markdown",
   "metadata": {},
   "source": [
    "##### The \\__init\\__() Method for a Child Class - super()"
   ]
  },
  {
   "cell_type": "code",
   "execution_count": null,
   "metadata": {
    "scrolled": true
   },
   "outputs": [],
   "source": []
  },
  {
   "cell_type": "markdown",
   "metadata": {},
   "source": [
    "##### Defining Attributes and Methods for the Child Class"
   ]
  },
  {
   "cell_type": "code",
   "execution_count": null,
   "metadata": {},
   "outputs": [],
   "source": [
    "# See Above"
   ]
  },
  {
   "cell_type": "markdown",
   "metadata": {},
   "source": [
    "##### Method Overriding"
   ]
  },
  {
   "cell_type": "code",
   "execution_count": null,
   "metadata": {},
   "outputs": [],
   "source": [
    "# See Above"
   ]
  },
  {
   "cell_type": "markdown",
   "metadata": {},
   "source": [
    "## Classes as Attributes <br>\n",
    "<p>Classes can also be used as attributes within another class. This is useful in situations where you need to keep variables locally stored, instead of globally stored.</p>"
   ]
  },
  {
   "cell_type": "code",
   "execution_count": 126,
   "metadata": {},
   "outputs": [
    {
     "name": "stdout",
     "output_type": "stream",
     "text": [
      "100\n",
      "90\n",
      "100\n",
      "2020 Tesla\n",
      "8\n",
      "100\n"
     ]
    }
   ],
   "source": [
    "class ElectricCar():\n",
    "    def __init__(self, year, make, a_battery):\n",
    "        self.year = year\n",
    "        self.make = make\n",
    "        self.battery = a_battery\n",
    "        \n",
    "    def describe(self):\n",
    "        print(self.year, self.make)\n",
    "        \n",
    "class Battery():\n",
    "    volts = 7.8\n",
    "    def __init__(self, cells):\n",
    "        self.cells = cells\n",
    "        self.time = 6\n",
    "        self.car = \"my_battery\"\n",
    "        self.charge = 100\n",
    "    \n",
    "    def drive(self):\n",
    "        self.charge -= 10\n",
    "        \n",
    "    def recharge(self):\n",
    "        self.charge = 100\n",
    "        \n",
    "energizer = Battery(8)\n",
    "print(energizer.charge)\n",
    "\n",
    "energizer.drive()\n",
    "print(energizer.charge)\n",
    "\n",
    "energizer.recharge()\n",
    "print(energizer.charge)\n",
    "\n",
    "tesla = ElectricCar(2020, \"Tesla\", energizer)\n",
    "tesla.describe()\n",
    "\n",
    "print(tesla.battery.cells)\n",
    "print(tesla.battery.charge)\n",
    "tesla.battery.recharge()"
   ]
  },
  {
   "cell_type": "code",
   "execution_count": 128,
   "metadata": {},
   "outputs": [
    {
     "name": "stdout",
     "output_type": "stream",
     "text": [
      "2022 Ford 10 100\n",
      "VROOOOOOM\n",
      "2022 Ford 10 90\n",
      "2022 Ford 10 100\n"
     ]
    }
   ],
   "source": [
    "class ElectricCar():\n",
    "    def __init__(self, year, make, a_battery):\n",
    "        self.year = year\n",
    "        self.make = make\n",
    "        self.battery = a_battery\n",
    "        \n",
    "    def describe(self):\n",
    "        print(self.year, self.make, self.battery.cells, self.battery.charge)\n",
    "    \n",
    "    def drive(self):\n",
    "        print(\"VROOOOOOM\")\n",
    "        self.battery.charge -= 10\n",
    "        \n",
    "class Battery():\n",
    "    volts = 7.8\n",
    "    def __init__(self, cells):\n",
    "        self.cells = cells\n",
    "        self.time = 6\n",
    "        self.car = \"my_battery\"\n",
    "        self.charge = 100\n",
    " \n",
    "       \n",
    "    def recharge(self):\n",
    "        self.charge = 100\n",
    "        \n",
    "mache = ElectricCar(2022, \"Ford\", Battery(10))\n",
    "mache.describe()\n",
    "mache.drive()\n",
    "mache.describe()\n",
    "mache.battery.recharge()\n",
    "mache.describe()"
   ]
  },
  {
   "cell_type": "markdown",
   "metadata": {},
   "source": [
    "# Exercises"
   ]
  },
  {
   "cell_type": "markdown",
   "metadata": {},
   "source": [
    "### Exercise 1 - Turn the shopping cart program from yesterday into an object-oriented program\n",
    "\n",
    "The comments in the cell below are there as a guide for thinking about the problem. However, if you feel a different way is best for you and your own thought process, please do what feels best for you by all means."
   ]
  },
  {
   "cell_type": "code",
   "execution_count": 1,
   "metadata": {
    "scrolled": false
   },
   "outputs": [],
   "source": [
    "# Create a class called cart that retains items and has methods to add, remove, and show\n",
    "from IPython.display import clear_output\n",
    "\n",
    "# Add item in a cart\n",
    "# See what items in a cart\n",
    "# Modify cart\n",
    "# Print all items at checkout\n",
    "\n",
    "class Pizza():\n",
    "    def __init__(self, item_id, item, price):\n",
    "        \"\"\"Order PIZZA menu\"\"\"\n",
    "        self.item_id = item_id\n",
    "        self.item = item\n",
    "        self.price = price\n",
    "        self.qty = 1\n",
    "        \n",
    "class Cart():\n",
    "    \n",
    "    \n",
    "    def __init__(self):\n",
    "        self.cart = {}\n",
    "        \n",
    "          \n",
    "    # ADDING TO THE CART    \n",
    "    def add_Cart(self, product):\n",
    "        \"\"\"Add product to the CART\"\"\"\n",
    "        if product.item not in self.cart:\n",
    "            self.cart[product.item] = product.price\n",
    "            print(f\">> ({product.item} was added to your cart)\")\n",
    "        else:\n",
    "            print(f\"***LIMIT 1 ITEM PER CUSTOMER (SORRY FOR THE INVENTORY SHORTAGE)***\")\n",
    "            \n",
    "    # SHOWING THE CART\n",
    "    def show_Cart(self):\n",
    "        \"\"\"View products in the CART\"\"\"\n",
    "        clear_output()\n",
    "        print(\">>> Items in your cart <<<\")\n",
    "        total = 0\n",
    "        for item, price in self.cart.items():\n",
    "            total += price\n",
    "            print(f\"\\t- {item} - ${price}\")\n",
    "        print(f\"\\n\\tTOTAL incl. taxes --------: ${total} \")\n",
    "        if not self.cart:\n",
    "            print(\"***YOUR CART IS EMPTY***\")\n",
    "            \n",
    "    # REMOVING FROM THE CART\n",
    "    def remove_cart(self, product):\n",
    "        \"\"\"Removing items from the CART\"\"\"\n",
    "        clear_output()\n",
    "        del self.cart[product.item]\n",
    "        print(f\"({product.item} was removed)***\")\n",
    "             \n",
    "########################################################################################################################\n",
    "hawaiian = Pizza(\"1\", \"Hawaiian pizza\", 19)\n",
    "sicilian = Pizza(\"2\", \"Sicilian pizza\", 20)\n",
    "pepperoni = Pizza(\"3\", \"Pepperoni\", 25)\n",
    "margherita = Pizza(\"4\", \"Margherita\", 12)\n",
    "beer = Pizza(\"5\", \"Beer\", 100)\n",
    "\n",
    "cart = Cart()\n",
    "\n",
    "     \n",
    "    \n",
    "\n",
    "def main():\n",
    "\n",
    "    while True:\n",
    "        \n",
    "        # ASSORTMENT\n",
    "        assort = input(\"(==========P==========I==========Z==========Z==========A==========)\"\n",
    "                       \"\\n***To ADD an item in your cart enter a number*** \"\n",
    "                       \"\\n** 'v' - to VIEW your cart \"\n",
    "                       \"\\n** 'r' - to REMOVE item from you cart \\n\"\n",
    "                       \"\\nToday we have: \"\n",
    "                       \"\\n\\t- (1) Hawaiian pizza -- $19\"\n",
    "                       \"\\n\\t- (2) Sicilian pizza -- $20\"\n",
    "                       \"\\n\\t- (3) Pepperoni -- $25\"\n",
    "                       \"\\n\\t- (4) Margherita -- $12\"\n",
    "                       \"\\n\\t- (5) Beer -- $100\"\n",
    "                       \"\\n\\t- (6) CHECKOUT\"\n",
    "                       \"\\n\\t- (7) QUIT - enter 7 or 'q'\"\n",
    "\n",
    "                       \"\\nWHAT WOULD YOU LIKE? \")\n",
    "        \n",
    "        # WRONG INPUT\n",
    "        if assort[0] not in {'1', '2', '3', '4', '5', '6', '7', 'q', 'v', 'r'} or len(assort) > 1:\n",
    "            clear_output()\n",
    "            print(\"\\n-* !WRONG INPUT! PLEASE FOLLOW THE INSTRUCTIONS *-\")\n",
    "            continue\n",
    "        \n",
    "        # QUIT\n",
    "        if assort[0].lower() == 'q' or assort == \"7\":\n",
    "            clear_output()\n",
    "            print(\"\\nThank you for visiting us! Have a great day! :)\")\n",
    "            break\n",
    "        \n",
    "        # ADDING TO CARD\n",
    "        if assort == \"1\":\n",
    "            clear_output()\n",
    "            cart.add_Cart(hawaiian)\n",
    "            \n",
    "        elif assort == \"2\":\n",
    "            clear_output()\n",
    "            cart.add_Cart(sicilian)\n",
    "            \n",
    "        elif assort == \"3\":\n",
    "            clear_output()\n",
    "            cart.add_Cart(pepperoni)\n",
    "\n",
    "        elif assort == \"4\":\n",
    "            clear_output()\n",
    "            cart.add_Cart(margherita)\n",
    "\n",
    "        elif assort == \"5\":\n",
    "            clear_output()\n",
    "            cart.add_Cart(beer)\n",
    "         \n",
    "        #VIEWING THE CART\n",
    "        if assort[0].lower() == 'v':\n",
    "            cart.show_Cart()\n",
    "         \n",
    "    \n",
    "        #REMOVING ITEM\n",
    "        if assort[0].lower() == 'r':\n",
    "         \n",
    "            if cart.cart != {}:\n",
    "                cart.show_Cart()\n",
    "                print(\"\\n* REMOVE ITEM * >>  Enter a first letter (ex. Hawaiian pizza - 'h')\"\n",
    "                  \"\\n *** Enter 'BACK' for MAIN MENU\")\n",
    "                remove = input(\"\\nWhat item do you want to remove?\")\n",
    "                \n",
    "                if remove[0].lower() not in {'h', 's', 'p', 'm', 'b', 'c', 'q'} or len(remove) > 1:\n",
    "                    cart.show_Cart()\n",
    "                    print(\"\\n-* !WRONG INPUT! PLEASE FOLLOW THE INSTRUCTIONS *-\")\n",
    "                    remove = input(\"\\nWhat item do you want to remove?\")\n",
    "\n",
    "                elif remove == 'h':\n",
    "                    clear_output()\n",
    "                    cart.remove_cart(hawaiian)\n",
    "                                      \n",
    "                elif remove == 's':\n",
    "                    clear_output()\n",
    "                    cart.remove_cart(sicilian)\n",
    "\n",
    "                elif remove == 'p':\n",
    "                    clear_output()\n",
    "                    cart.remove_cart(pepperoni)\n",
    "\n",
    "                elif remove == 'm':\n",
    "                    clear_output()\n",
    "                    cart.remove_cart(margherita)\n",
    "\n",
    "                elif remove == 'b':\n",
    "                    clear_output()\n",
    "                    cart.remove_cart(beer)\n",
    "\n",
    "                elif remove == 'back':\n",
    "                    clear_output()\n",
    "                    remove = assort\n",
    "                \n",
    "            else:\n",
    "                clear_output()\n",
    "                print(\"\\n***YOUR CART IS EMPTY***\")\n",
    "                \n",
    "    \n",
    "        # CHECK OUT\n",
    "        if assort[0].lower() == 'c' or assort == \"6\":\n",
    "            clear_output()\n",
    "            if cart.cart == {}:\n",
    "                print(\"\\n***YOUR CART IS EMPTY***\")\n",
    "            else:\n",
    "                \n",
    "                cart.show_Cart()\n",
    "                print(\"\\n>>> PLEASE CHECK YOU ORDER <<<\")\n",
    "                \n",
    "                correct = input(\"Is everything correct? Place the order (yes/no)\")\n",
    "                if correct[0] not in {'y', 'n'}:\n",
    "                    print(\"\\n!WRONG INPUT! PLEASE FOLLOW THE INSTRUCTIONS\")\n",
    "                    correct = input(\"Is everything correct? Place the order (yes/no)\")\n",
    "            \n",
    "                if correct[0].lower() == 'y':\n",
    "                    \n",
    "                    cart.show_Cart()\n",
    "                    print(\"\\n>>> Your order received <<<\")\n",
    "                    print(\"\\nThank you for visiting us! Have a great day!\")\n",
    "                    break\n",
    "                else:\n",
    "                    clear_output()\n",
    "                    remove = assort\n",
    " \n",
    "if __name__ == \"__main__\":\n",
    "    #Driver code\n",
    "    main()\n",
    "\n",
    "       \n",
    "    \n",
    "     "
   ]
  },
  {
   "cell_type": "markdown",
   "metadata": {},
   "source": [
    "### Exercise 2 - Write a Python class which has two methods get_String and print_String. get_String accept a string from the user and print_String print the string in upper case"
   ]
  },
  {
   "cell_type": "code",
   "execution_count": 133,
   "metadata": {},
   "outputs": [
    {
     "name": "stdout",
     "output_type": "stream",
     "text": [
      "Enter any string and I will make it in UPPER case: HoW abOUt ThiS?\n",
      "HOW ABOUT THIS?\n"
     ]
    }
   ],
   "source": [
    "class UpperString():\n",
    "    \"\"\"String representation.\"\"\"\n",
    "    def __init__(self):\n",
    "        self.any_string = \"\"\n",
    "        \n",
    "    def get_String(self):\n",
    "        \"\"\"Take any string from the user input.\"\"\"\n",
    "        self.any_string = input(\"Enter any string and I will make it in UPPER case: \")\n",
    "        \n",
    "    def print_String(self):\n",
    "        \"\"\"Print inputed string in UPPER case.\"\"\"\n",
    "        print(self.any_string.upper())\n",
    "\n",
    "string = UpperString()\n",
    "\n",
    "string.get_String()\n",
    "string.print_String()\n",
    "        \n",
    "        \n"
   ]
  }
 ],
 "metadata": {
  "kernelspec": {
   "display_name": "Python 3 (ipykernel)",
   "language": "python",
   "name": "python3"
  },
  "language_info": {
   "codemirror_mode": {
    "name": "ipython",
    "version": 3
   },
   "file_extension": ".py",
   "mimetype": "text/x-python",
   "name": "python",
   "nbconvert_exporter": "python",
   "pygments_lexer": "ipython3",
   "version": "3.9.12"
  },
  "vscode": {
   "interpreter": {
    "hash": "f441125be57e159650267759ec2248efe54b15ad347e99e3f26931a9aa1467de"
   }
  }
 },
 "nbformat": 4,
 "nbformat_minor": 2
}
